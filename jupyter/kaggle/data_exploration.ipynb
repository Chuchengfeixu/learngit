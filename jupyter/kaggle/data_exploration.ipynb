{
 "cells": [
  {
   "cell_type": "code",
   "execution_count": 1,
   "metadata": {
    "collapsed": false
   },
   "outputs": [
    {
     "name": "stdout",
     "output_type": "stream",
     "text": [
      "(4209, 378)\n"
     ]
    }
   ],
   "source": [
    "import numpy as np\n",
    "import os\n",
    "data=np.genfromtxt('/home/zzq/kaggle/benz/train.csv',delimiter=',')\n",
    "print np.shape(data)"
   ]
  },
  {
   "cell_type": "code",
   "execution_count": 13,
   "metadata": {
    "collapsed": false
   },
   "outputs": [
    {
     "name": "stdout",
     "output_type": "stream",
     "text": [
      "<type 'numpy.float64'>\n"
     ]
    }
   ],
   "source": [
    "print type(data[0][123])"
   ]
  },
  {
   "cell_type": "code",
   "execution_count": 3,
   "metadata": {
    "collapsed": false
   },
   "outputs": [
    {
     "name": "stdout",
     "output_type": "stream",
     "text": [
      "<type 'numpy.float64'>\n"
     ]
    }
   ],
   "source": [
    "print type(data[1][3])"
   ]
  },
  {
   "cell_type": "code",
   "execution_count": 14,
   "metadata": {
    "collapsed": false
   },
   "outputs": [
    {
     "name": "stdout",
     "output_type": "stream",
     "text": [
      "nan\n"
     ]
    }
   ],
   "source": [
    "print data[1][3]"
   ]
  },
  {
   "cell_type": "code",
   "execution_count": 15,
   "metadata": {
    "collapsed": false
   },
   "outputs": [
    {
     "name": "stdout",
     "output_type": "stream",
     "text": [
      "0.0\n"
     ]
    }
   ],
   "source": [
    "print data[0][123]"
   ]
  },
  {
   "cell_type": "code",
   "execution_count": 16,
   "metadata": {
    "collapsed": false
   },
   "outputs": [],
   "source": [
    "if data[0][123]!=data[0][123]:\n",
    "    print 'nan'"
   ]
  },
  {
   "cell_type": "code",
   "execution_count": 3,
   "metadata": {
    "collapsed": false
   },
   "outputs": [
    {
     "name": "stdout",
     "output_type": "stream",
     "text": [
      "0.792917437473\n"
     ]
    }
   ],
   "source": [
    "import random\n",
    "print random.uniform(0,1)"
   ]
  },
  {
   "cell_type": "code",
   "execution_count": 17,
   "metadata": {
    "collapsed": false
   },
   "outputs": [
    {
     "name": "stdout",
     "output_type": "stream",
     "text": [
      "nan\n"
     ]
    }
   ],
   "source": [
    "\n",
    "data_y_max=data.max(axis=1)\n",
    "print data_y_max[1]"
   ]
  },
  {
   "cell_type": "code",
   "execution_count": 4,
   "metadata": {
    "collapsed": false
   },
   "outputs": [],
   "source": [
    "for i in range(4209):\n",
    "    for j in range(378):\n",
    "        if data[i][j]!=data[i][j]:\n",
    "            data[i][j]=random.uniform(0,1)"
   ]
  },
  {
   "cell_type": "code",
   "execution_count": 5,
   "metadata": {
    "collapsed": false
   },
   "outputs": [
    {
     "name": "stdout",
     "output_type": "stream",
     "text": [
      "265.32\n"
     ]
    }
   ],
   "source": [
    "data[0][1]=130.81\n",
    "data_y_max=data.max(axis=0)\n",
    "print data_y_max[1]"
   ]
  },
  {
   "cell_type": "code",
   "execution_count": 27,
   "metadata": {
    "collapsed": false
   },
   "outputs": [
    {
     "name": "stdout",
     "output_type": "stream",
     "text": [
      "130.81\n",
      "88.53\n"
     ]
    }
   ],
   "source": [
    "print data[0][1]\n",
    "print data[1][1]"
   ]
  },
  {
   "cell_type": "code",
   "execution_count": 7,
   "metadata": {
    "collapsed": true
   },
   "outputs": [],
   "source": [
    "y_label=data[:,1]"
   ]
  },
  {
   "cell_type": "code",
   "execution_count": 29,
   "metadata": {
    "collapsed": false
   },
   "outputs": [
    {
     "name": "stdout",
     "output_type": "stream",
     "text": [
      "[ 130.81   88.53   76.26 ...,  109.22   87.48  110.85]\n"
     ]
    }
   ],
   "source": [
    "print y_label"
   ]
  },
  {
   "cell_type": "code",
   "execution_count": 8,
   "metadata": {
    "collapsed": false
   },
   "outputs": [
    {
     "name": "stdout",
     "output_type": "stream",
     "text": [
      "265.32\n",
      "72.11\n"
     ]
    }
   ],
   "source": [
    "print y_label.max()\n",
    "print y_label.min()"
   ]
  },
  {
   "cell_type": "code",
   "execution_count": 31,
   "metadata": {
    "collapsed": false
   },
   "outputs": [
    {
     "name": "stdout",
     "output_type": "stream",
     "text": [
      "(4209,)\n"
     ]
    }
   ],
   "source": [
    "print y_label.shape"
   ]
  },
  {
   "cell_type": "code",
   "execution_count": 33,
   "metadata": {
    "collapsed": false
   },
   "outputs": [],
   "source": [
    "x=np.linspace(0,4209,4209)\n",
    "import matplotlib.pyplot as plt\n",
    "%matlablib inline"
   ]
  },
  {
   "cell_type": "code",
   "execution_count": null,
   "metadata": {
    "collapsed": true
   },
   "outputs": [],
   "source": [
    "fig=plt.figure()\n",
    "plt.scatter(x,y_label)\n",
    "plt.show()\n"
   ]
  },
  {
   "cell_type": "code",
   "execution_count": 9,
   "metadata": {
    "collapsed": true
   },
   "outputs": [],
   "source": [
    "cls=np.zeros((4209))\n",
    "for i in range(4209):\n",
    "    cls[i]=int(y_label[i]/10)\n",
    "    if cls[i]<=7:\n",
    "        cls[i]=7\n",
    "    if cls[i]>=15:\n",
    "        cls[i]=15"
   ]
  },
  {
   "cell_type": "code",
   "execution_count": 11,
   "metadata": {
    "collapsed": false
   },
   "outputs": [],
   "source": [
    "out=file('/home/zzq/kaggle/benz/y_label','w')\n",
    "xian=''\n",
    "for i in range(4208):\n",
    "    xian=xian+str(cls[i])+','\n",
    "xian=xian+str(cls[4208])+'\\n'\n",
    "out.write(xian)\n",
    "out.close()"
   ]
  },
  {
   "cell_type": "code",
   "execution_count": 12,
   "metadata": {
    "collapsed": true
   },
   "outputs": [],
   "source": [
    "feature=data[:,2:378]\n"
   ]
  },
  {
   "cell_type": "code",
   "execution_count": 13,
   "metadata": {
    "collapsed": false
   },
   "outputs": [
    {
     "name": "stdout",
     "output_type": "stream",
     "text": [
      "(4209, 376)\n"
     ]
    }
   ],
   "source": [
    "print feature.shape"
   ]
  },
  {
   "cell_type": "code",
   "execution_count": 15,
   "metadata": {
    "collapsed": false
   },
   "outputs": [],
   "source": [
    "out=file('/home/zzq/kaggle/benz/feature','w')\n",
    "for i in range(4209):\n",
    "    xian=''\n",
    "    for j in range(375):\n",
    "        xian=xian+str(feature[i][j])+','\n",
    "    xian=xian+str(feature[i][375])+'\\n'\n",
    "    out.write(xian)\n",
    "out.close()"
   ]
  },
  {
   "cell_type": "code",
   "execution_count": 16,
   "metadata": {
    "collapsed": false
   },
   "outputs": [
    {
     "data": {
      "text/html": [
       "<div style=\"max-height:1000px;max-width:1500px;overflow:auto;\">\n",
       "<table border=\"1\" class=\"dataframe\">\n",
       "  <thead>\n",
       "    <tr style=\"text-align: right;\">\n",
       "      <th></th>\n",
       "      <th>0</th>\n",
       "      <th>130.81</th>\n",
       "      <th>k</th>\n",
       "      <th>v</th>\n",
       "      <th>at</th>\n",
       "      <th>a</th>\n",
       "      <th>d</th>\n",
       "      <th>u</th>\n",
       "      <th>j</th>\n",
       "      <th>o</th>\n",
       "      <th>0.1</th>\n",
       "      <th>0.2</th>\n",
       "      <th>0.3</th>\n",
       "      <th>1</th>\n",
       "      <th>0.4</th>\n",
       "      <th>0.5</th>\n",
       "      <th>0.6</th>\n",
       "      <th>0.7</th>\n",
       "      <th>1.1</th>\n",
       "      <th>0.8</th>\n",
       "      <th></th>\n",
       "    </tr>\n",
       "  </thead>\n",
       "  <tbody>\n",
       "    <tr>\n",
       "      <th>0</th>\n",
       "      <td>  6</td>\n",
       "      <td> 88.53</td>\n",
       "      <td>  k</td>\n",
       "      <td> t</td>\n",
       "      <td> av</td>\n",
       "      <td> e</td>\n",
       "      <td> d</td>\n",
       "      <td> y</td>\n",
       "      <td> l</td>\n",
       "      <td> o</td>\n",
       "      <td> 0</td>\n",
       "      <td> 0</td>\n",
       "      <td> 0</td>\n",
       "      <td> 0</td>\n",
       "      <td> 0</td>\n",
       "      <td> 0</td>\n",
       "      <td> 0</td>\n",
       "      <td> 0</td>\n",
       "      <td> 1</td>\n",
       "      <td> 0</td>\n",
       "      <td>...</td>\n",
       "    </tr>\n",
       "    <tr>\n",
       "      <th>1</th>\n",
       "      <td>  7</td>\n",
       "      <td> 76.26</td>\n",
       "      <td> az</td>\n",
       "      <td> w</td>\n",
       "      <td>  n</td>\n",
       "      <td> c</td>\n",
       "      <td> d</td>\n",
       "      <td> x</td>\n",
       "      <td> j</td>\n",
       "      <td> x</td>\n",
       "      <td> 0</td>\n",
       "      <td> 0</td>\n",
       "      <td> 0</td>\n",
       "      <td> 0</td>\n",
       "      <td> 0</td>\n",
       "      <td> 0</td>\n",
       "      <td> 0</td>\n",
       "      <td> 1</td>\n",
       "      <td> 0</td>\n",
       "      <td> 0</td>\n",
       "      <td>...</td>\n",
       "    </tr>\n",
       "    <tr>\n",
       "      <th>2</th>\n",
       "      <td>  9</td>\n",
       "      <td> 80.62</td>\n",
       "      <td> az</td>\n",
       "      <td> t</td>\n",
       "      <td>  n</td>\n",
       "      <td> f</td>\n",
       "      <td> d</td>\n",
       "      <td> x</td>\n",
       "      <td> l</td>\n",
       "      <td> e</td>\n",
       "      <td> 0</td>\n",
       "      <td> 0</td>\n",
       "      <td> 0</td>\n",
       "      <td> 0</td>\n",
       "      <td> 0</td>\n",
       "      <td> 0</td>\n",
       "      <td> 0</td>\n",
       "      <td> 0</td>\n",
       "      <td> 0</td>\n",
       "      <td> 0</td>\n",
       "      <td>...</td>\n",
       "    </tr>\n",
       "    <tr>\n",
       "      <th>3</th>\n",
       "      <td> 13</td>\n",
       "      <td> 78.02</td>\n",
       "      <td> az</td>\n",
       "      <td> v</td>\n",
       "      <td>  n</td>\n",
       "      <td> f</td>\n",
       "      <td> d</td>\n",
       "      <td> h</td>\n",
       "      <td> d</td>\n",
       "      <td> n</td>\n",
       "      <td> 0</td>\n",
       "      <td> 0</td>\n",
       "      <td> 0</td>\n",
       "      <td> 0</td>\n",
       "      <td> 0</td>\n",
       "      <td> 0</td>\n",
       "      <td> 0</td>\n",
       "      <td> 0</td>\n",
       "      <td> 0</td>\n",
       "      <td> 0</td>\n",
       "      <td>...</td>\n",
       "    </tr>\n",
       "    <tr>\n",
       "      <th>4</th>\n",
       "      <td> 18</td>\n",
       "      <td> 92.93</td>\n",
       "      <td>  t</td>\n",
       "      <td> b</td>\n",
       "      <td>  e</td>\n",
       "      <td> c</td>\n",
       "      <td> d</td>\n",
       "      <td> g</td>\n",
       "      <td> h</td>\n",
       "      <td> s</td>\n",
       "      <td> 0</td>\n",
       "      <td> 0</td>\n",
       "      <td> 0</td>\n",
       "      <td> 0</td>\n",
       "      <td> 1</td>\n",
       "      <td> 0</td>\n",
       "      <td> 0</td>\n",
       "      <td> 0</td>\n",
       "      <td> 0</td>\n",
       "      <td> 0</td>\n",
       "      <td>...</td>\n",
       "    </tr>\n",
       "  </tbody>\n",
       "</table>\n",
       "<p>5 rows × 378 columns</p>\n",
       "</div>"
      ],
      "text/plain": [
       "    0  130.81   k  v  at  a  d  u  j  o  0.1  0.2  0.3  1  0.4  0.5  0.6  0.7  \\\n",
       "0   6   88.53   k  t  av  e  d  y  l  o    0    0    0  0    0    0    0    0   \n",
       "1   7   76.26  az  w   n  c  d  x  j  x    0    0    0  0    0    0    0    1   \n",
       "2   9   80.62  az  t   n  f  d  x  l  e    0    0    0  0    0    0    0    0   \n",
       "3  13   78.02  az  v   n  f  d  h  d  n    0    0    0  0    0    0    0    0   \n",
       "4  18   92.93   t  b   e  c  d  g  h  s    0    0    0  0    1    0    0    0   \n",
       "\n",
       "   1.1  0.8      \n",
       "0    1    0 ...  \n",
       "1    0    0 ...  \n",
       "2    0    0 ...  \n",
       "3    0    0 ...  \n",
       "4    0    0 ...  \n",
       "\n",
       "[5 rows x 378 columns]"
      ]
     },
     "execution_count": 16,
     "metadata": {},
     "output_type": "execute_result"
    }
   ],
   "source": [
    "import pandas as pd\n",
    "train_df=pd.read_csv('/home/zzq/kaggle/benz/train.csv')\n",
    "train_df.head()"
   ]
  },
  {
   "cell_type": "code",
   "execution_count": 26,
   "metadata": {
    "collapsed": false
   },
   "outputs": [
    {
     "name": "stdout",
     "output_type": "stream",
     "text": [
      "(4209, 378)\n",
      "at\n"
     ]
    }
   ],
   "source": [
    "from io import BytesIO\n",
    "from StringIO import StringIO\n",
    "l3=[]\n",
    "l4=[]\n",
    "l5=[]\n",
    "l6=[]\n",
    "l7=[]\n",
    "l8=[]\n",
    "data=np.genfromtxt('/home/zzq/kaggle/benz/train.csv' ,delimiter=',',dtype='unicode')\n",
    "print data.shape\n",
    "print data[0][4]\n",
    "for i in range(4209):\n",
    "    l3.append(data[i][2])\n",
    "    l4.append(data[i][3])\n",
    "    l5.append(data[i][4])\n",
    "    l6.append(data[i][5])\n",
    "    l7.append(data[i][6])\n",
    "    l8.append(data[i][7])\n",
    "l3=list(set(l3))\n",
    "l4=list(set(l4))\n",
    "l5=list(set(l5))\n",
    "l6=list(set(l6))\n",
    "l7=list(set(l7))\n",
    "l8=list(set(l8))\n"
   ]
  },
  {
   "cell_type": "code",
   "execution_count": 27,
   "metadata": {
    "collapsed": false
   },
   "outputs": [
    {
     "name": "stdout",
     "output_type": "stream",
     "text": [
      "[u'aa', u'ac', u'ab', u'ad', u'af', u'ai', u'ak', u'aj', u'am', u'al', u'ao', u'aq', u'ap', u'as', u'au', u'at', u'aw', u'ay', u'ax', u'az', u'ba', u'bc', u'a', u'c', u'b', u'e', u'd', u'g', u'f', u'i', u'h', u'k', u'j', u'm', u'l', u'o', u'n', u'q', u's', u'r', u'u', u't', u'w', u'v', u'y', u'x', u'z']\n"
     ]
    }
   ],
   "source": [
    "print l3"
   ]
  },
  {
   "cell_type": "code",
   "execution_count": null,
   "metadata": {
    "collapsed": true
   },
   "outputs": [],
   "source": []
  }
 ],
 "metadata": {
  "kernelspec": {
   "display_name": "Python 2",
   "language": "python",
   "name": "python2"
  },
  "language_info": {
   "codemirror_mode": {
    "name": "ipython",
    "version": 2
   },
   "file_extension": ".py",
   "mimetype": "text/x-python",
   "name": "python",
   "nbconvert_exporter": "python",
   "pygments_lexer": "ipython2",
   "version": "2.7.6"
  }
 },
 "nbformat": 4,
 "nbformat_minor": 0
}
