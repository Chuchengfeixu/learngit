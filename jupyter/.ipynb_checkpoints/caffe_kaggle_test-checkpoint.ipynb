{
 "cells": [
  {
   "cell_type": "code",
   "execution_count": 2,
   "metadata": {
    "collapsed": true,
    "deletable": true,
    "editable": true
   },
   "outputs": [],
   "source": [
    "import caffe\n",
    "import numpy as np\n",
    "caffe.set_mode_gpu()"
   ]
  },
  {
   "cell_type": "code",
   "execution_count": 3,
   "metadata": {
    "collapsed": false,
    "deletable": true,
    "editable": true
   },
   "outputs": [
    {
     "name": "stdout",
     "output_type": "stream",
     "text": [
      "hello\n"
     ]
    }
   ],
   "source": [
    "net=caffe.Net('/home/zzq/caffe/models/bvlc_alexnet/deploy.prototxt',\n",
    "             '/home/zzq/caffe/models/bvlc_alexnet/caffe_alexnet_train_iter_1000.caffemodel',\n",
    "             caffe.TEST)\n",
    "lines=open('/home/zzq/result/kaggle/image_list','r').readlines()\n",
    "root='/home/zzq/kaggle/fish/test_crop/'\n",
    "label='/home/zzq/result/kaggle/label'\n",
    "la=open(label,'r').readlines()\n",
    "f=file(\"/home/zzq/result/kaggle/result2.csv\",\"a+\")\n",
    "str_='image,'\n",
    "for i in range(0,len(la)):\n",
    "    l_=la[i].strip('\\n')\n",
    "    if i==len(la)-1:\n",
    "        str_=str_+l_\n",
    "    else:\n",
    "        str_=str_+l_+','\n",
    "f.writelines(str_+'\\n')\n",
    "for i in range(0,len(lines)):\n",
    "    \n",
    "    #transformer.set_raw_scale('data', 255)\n",
    "    lines_=lines[i].strip('\\n')\n",
    "    img=root+lines_\n",
    "    transformer = caffe.io.Transformer({'data': net.blobs['data'].data.shape})  #设定图片的shape格式(1,3,28,28)\n",
    "    transformer.set_transpose('data', (2,0,1))    #改变维度的顺序，由原始图片(28,28,3)变为(3,28,28)\n",
    "    #transformer.set_mean('data', np.load(mean_file).mean(1).mean(1))    #减去均值，前面训练模型时没有减均值，这儿就不用\n",
    "    transformer.set_raw_scale('data', 255)    # 缩放到【0，255】之间\n",
    "    transformer.set_channel_swap('data', (2,1,0))   #交换通道，将图片由RGB变为BGR\n",
    "    im=caffe.io.load_image(img) \n",
    "    #net.blobs['data'].data[...] = transformer.preprocess('data',im) \n",
    "    #print lines[i]\n",
    "    #net.blobs['data']=im\n",
    "    net.blobs['data'].data[...] = transformer.preprocess('data',im) \n",
    "    out=net.forward()\n",
    "    prob=net.blobs['prob'].data[0].flatten()\n",
    "    f=file(\"/home/zzq/result/kaggle/result2.csv\",\"a+\")\n",
    "    xian=lines_+','+('%.10f,%.10f,%.10f,%.10f,%.10f,%.10f,%.10f,%.10f'%(prob[0],\n",
    "                                                                         prob[1],\n",
    "                                                                         prob[2],\n",
    "                                                                         prob[3],\n",
    "                                                                         prob[4],\n",
    "                                                                         prob[5],\n",
    "                                                                          prob[6],\n",
    "                                                                          prob[7]\n",
    "                                                                         )) + '\\n'\n",
    "    f.writelines(xian)\n",
    "    if i==len(lines)-1:\n",
    "        img_1001='/home/zzq/kaggle/test_stg1/img_07921.jpg'\n",
    "        print 'hello'\n",
    "        im_1001=caffe.io.load_image(img) \n",
    "        net.blobs['data'].data[...] = transformer.preprocess('data',im_1001)\n",
    "        out=net.forward()\n",
    "        prob=net.blobs['prob'].data[0].flatten()\n",
    "        f=file(\"/home/zzq/result/kaggle/result2.csv\",\"a+\")\n",
    "        xian_='img_07921.jpg'+','+('%.10f,%.10f,%.10f,%.10f,%.10f,%.10f,%.10f,%.10f'%(prob[0],\n",
    "                                                                         prob[1],\n",
    "                                                                         prob[2],\n",
    "                                                                         prob[3],\n",
    "                                                                         prob[4],\n",
    "                                                                         prob[5],\n",
    "                                                                          prob[6],\n",
    "                                                                          prob[7]\n",
    "                                                                         )) + '\\n'\n",
    "        f.writelines(xian_)\n",
    "        \n"
   ]
  },
  {
   "cell_type": "code",
   "execution_count": null,
   "metadata": {
    "collapsed": true,
    "deletable": true,
    "editable": true
   },
   "outputs": [],
   "source": []
  }
 ],
 "metadata": {
  "kernelspec": {
   "display_name": "Python 2",
   "language": "python",
   "name": "python2"
  },
  "language_info": {
   "codemirror_mode": {
    "name": "ipython",
    "version": 2
   },
   "file_extension": ".py",
   "mimetype": "text/x-python",
   "name": "python",
   "nbconvert_exporter": "python",
   "pygments_lexer": "ipython2",
   "version": "2.7.12"
  }
 },
 "nbformat": 4,
 "nbformat_minor": 2
}
