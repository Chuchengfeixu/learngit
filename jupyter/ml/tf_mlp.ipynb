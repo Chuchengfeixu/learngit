{
 "cells": [
  {
   "cell_type": "code",
   "execution_count": 1,
   "metadata": {
    "collapsed": true
   },
   "outputs": [],
   "source": [
    "import tensorflow as tf\n",
    "import numpy as np\n",
    "import os\n",
    "import pandas as pd"
   ]
  },
  {
   "cell_type": "code",
   "execution_count": 6,
   "metadata": {},
   "outputs": [],
   "source": [
    "def add_layer(input,input_size,output_size,action_fun=None):\n",
    "    weights=tf.Variable(tf.random_normal([input_size,output_size]))\n",
    "    biases=tf.Variable(tf.zeros([1,output_size])+0.1)\n",
    "    ans=tf.matmul(input,weights)+biases\n",
    "    if action_fun is None:\n",
    "        output=ans\n",
    "    else:\n",
    "        output=action_fun(ans)\n",
    "    return output"
   ]
  },
  {
   "cell_type": "code",
   "execution_count": 3,
   "metadata": {},
   "outputs": [
    {
     "name": "stdout",
     "output_type": "stream",
     "text": [
      "(300, 1)\n"
     ]
    }
   ],
   "source": [
    "x_data=np.linspace(-1,1,300)[:,np.newaxis]\n",
    "print x_data.shape\n",
    "#因为第二个维度为none"
   ]
  },
  {
   "cell_type": "code",
   "execution_count": 4,
   "metadata": {},
   "outputs": [],
   "source": [
    "noise=np.random.normal(0,0.05,x_data.shape)\n",
    "y_data=np.square(x_data)+1+noise\n",
    "#数据准备完成"
   ]
  },
  {
   "cell_type": "code",
   "execution_count": 7,
   "metadata": {},
   "outputs": [],
   "source": [
    "hidden_layer=add_layer(xs,1,10,action_fun=tf.nn.relu)\n",
    "prediction=add_layer(hidden_layer,10,1,action_fun=None)\n",
    "#w网络构建完毕"
   ]
  },
  {
   "cell_type": "code",
   "execution_count": 8,
   "metadata": {},
   "outputs": [],
   "source": [
    "loss = tf.reduce_mean(tf.reduce_sum(tf.square(ys - prediction), reduction_indices = [1]))\n",
    "train_step = tf.train.GradientDescentOptimizer(0.1).minimize(loss)\n",
    "init = tf.global_variables_initializer()\n",
    "sess = tf.Session()\n",
    "sess.run(init)"
   ]
  },
  {
   "cell_type": "code",
   "execution_count": 9,
   "metadata": {},
   "outputs": [
    {
     "name": "stdout",
     "output_type": "stream",
     "text": [
      "2.26873\n0.00497625\n0.00477898\n0.00463791\n"
     ]
    },
    {
     "name": "stdout",
     "output_type": "stream",
     "text": [
      "0.00454717\n0.00446681\n0.00438295\n0.00428644\n0.00419383\n"
     ]
    },
    {
     "name": "stdout",
     "output_type": "stream",
     "text": [
      "0.00407895\n"
     ]
    }
   ],
   "source": [
    "for i in range(1000):\n",
    "    sess.run(train_step,feed_dict={xs:x_data,ys:y_data})\n",
    "    if i%100==0:\n",
    "        print sess.run(loss,feed_dict={xs:x_data,ys:y_data})\n",
    "sess.close()"
   ]
  },
  {
   "cell_type": "code",
   "execution_count": null,
   "metadata": {},
   "outputs": [],
   "source": [
    ""
   ]
  }
 ],
 "metadata": {
  "kernelspec": {
   "display_name": "Python 2",
   "language": "python",
   "name": "python2"
  },
  "language_info": {
   "codemirror_mode": {
    "name": "ipython",
    "version": 2.0
   },
   "file_extension": ".py",
   "mimetype": "text/x-python",
   "name": "python",
   "nbconvert_exporter": "python",
   "pygments_lexer": "ipython2",
   "version": "2.7.6"
  }
 },
 "nbformat": 4,
 "nbformat_minor": 0
}