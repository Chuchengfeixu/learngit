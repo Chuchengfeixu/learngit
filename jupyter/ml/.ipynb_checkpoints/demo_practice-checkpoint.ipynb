{
 "cells": [
  {
   "cell_type": "code",
   "execution_count": 1,
   "metadata": {
    "collapsed": true
   },
   "outputs": [],
   "source": [
    "import numpy as np"
   ]
  },
  {
   "cell_type": "code",
   "execution_count": 3,
   "metadata": {
    "collapsed": false
   },
   "outputs": [
    {
     "name": "stdout",
     "output_type": "stream",
     "text": [
      "[ 1.5  2.5]\n"
     ]
    }
   ],
   "source": [
    "x=np.array([[1,2],[2,3]])\n",
    "mu_x=np.mean(x,axis=1)\n",
    "print mu_x"
   ]
  },
  {
   "cell_type": "code",
   "execution_count": 4,
   "metadata": {
    "collapsed": false
   },
   "outputs": [
    {
     "name": "stdout",
     "output_type": "stream",
     "text": [
      "[[ 1.5  2.5]\n",
      " [ 1.5  2.5]]\n"
     ]
    }
   ],
   "source": [
    "mu_all=np.tile(mu_x,(2,1))#以列为重复2次\n",
    "print mu_all"
   ]
  },
  {
   "cell_type": "code",
   "execution_count": 6,
   "metadata": {
    "collapsed": false
   },
   "outputs": [
    {
     "name": "stdout",
     "output_type": "stream",
     "text": [
      "[ 1.5  2.5]\n"
     ]
    }
   ],
   "source": [
    "print np.diag(mu_all)#求得返回对角线上的值"
   ]
  },
  {
   "cell_type": "code",
   "execution_count": 9,
   "metadata": {
    "collapsed": false
   },
   "outputs": [
    {
     "name": "stdout",
     "output_type": "stream",
     "text": [
      "[[-0.5 -0.5]\n",
      " [ 0.5  0.5]]\n",
      "[[-0.5  0.5]\n",
      " [-0.5  0.5]]\n",
      "[[ 0.25 -0.25]\n",
      " [-0.25  0.25]]\n"
     ]
    }
   ],
   "source": [
    "x1=x-mu_all\n",
    "print x1\n",
    "print x1.T\n",
    "print x1.T*x1\n",
    "variance=1/2.0*np.diag(x1.T*x1)"
   ]
  },
  {
   "cell_type": "code",
   "execution_count": 8,
   "metadata": {
    "collapsed": false
   },
   "outputs": [
    {
     "name": "stdout",
     "output_type": "stream",
     "text": [
      "[ 0.125  0.125]\n"
     ]
    }
   ],
   "source": [
    "print variance"
   ]
  },
  {
   "cell_type": "code",
   "execution_count": 10,
   "metadata": {
    "collapsed": false
   },
   "outputs": [
    {
     "name": "stdout",
     "output_type": "stream",
     "text": [
      "[[-0.5 -0.5]\n",
      " [ 0.5  0.5]]\n"
     ]
    }
   ],
   "source": [
    "data_ajust=[]\n",
    "data_ajust=x-mu_all#直接把data_just从list转化为numpy类型的数据\n",
    "print data_ajust"
   ]
  },
  {
   "cell_type": "code",
   "execution_count": 11,
   "metadata": {
    "collapsed": false
   },
   "outputs": [
    {
     "name": "stdout",
     "output_type": "stream",
     "text": [
      "<type 'numpy.ndarray'>\n"
     ]
    }
   ],
   "source": [
    "print type(data_ajust)"
   ]
  },
  {
   "cell_type": "code",
   "execution_count": 12,
   "metadata": {
    "collapsed": false
   },
   "outputs": [
    {
     "name": "stdout",
     "output_type": "stream",
     "text": [
      "[[ 0.5  0.5]\n",
      " [ 0.5  0.5]]\n"
     ]
    }
   ],
   "source": [
    "conv=np.cov(x1.T)\n",
    "print conv"
   ]
  },
  {
   "cell_type": "code",
   "execution_count": 13,
   "metadata": {
    "collapsed": false
   },
   "outputs": [
    {
     "name": "stdout",
     "output_type": "stream",
     "text": [
      "[ 0.72879763  0.95071402  0.17024943  0.63346022]\n"
     ]
    }
   ],
   "source": [
    "ran=np.random.random(4)#产生四个0到1d的浮点数\n",
    "print ran"
   ]
  },
  {
   "cell_type": "code",
   "execution_count": 14,
   "metadata": {
    "collapsed": false
   },
   "outputs": [
    {
     "name": "stdout",
     "output_type": "stream",
     "text": [
      "[ 0.563405    0.79766638  0.4752634   0.61972884]\n"
     ]
    }
   ],
   "source": [
    "print np.random.normal(ran,0.3)"
   ]
  },
  {
   "cell_type": "code",
   "execution_count": null,
   "metadata": {
    "collapsed": true
   },
   "outputs": [],
   "source": [
    "#  numpy.random.normal(loc=0.0, scale=1.0, size=None)\n",
    "# 返回符合高斯分布的数据\n",
    "# mu是均值\n",
    "# scale是方差\n",
    "# size是返回多少个数，默认为1"
   ]
  }
 ],
 "metadata": {
  "kernelspec": {
   "display_name": "Python 2",
   "language": "python",
   "name": "python2"
  },
  "language_info": {
   "codemirror_mode": {
    "name": "ipython",
    "version": 2
   },
   "file_extension": ".py",
   "mimetype": "text/x-python",
   "name": "python",
   "nbconvert_exporter": "python",
   "pygments_lexer": "ipython2",
   "version": "2.7.12"
  }
 },
 "nbformat": 4,
 "nbformat_minor": 2
}
