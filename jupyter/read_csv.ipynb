{
 "cells": [
  {
   "cell_type": "code",
   "execution_count": 3,
   "metadata": {
    "collapsed": false
   },
   "outputs": [
    {
     "ename": "SyntaxError",
     "evalue": "invalid syntax (<ipython-input-3-2b8c9372be30>, line 4)",
     "output_type": "error",
     "traceback": [
      "\u001b[0;36m  File \u001b[0;32m\"<ipython-input-3-2b8c9372be30>\"\u001b[0;36m, line \u001b[0;32m4\u001b[0m\n\u001b[0;31m    reader = csv.reader(csvreader，encoding='utf-8')\u001b[0m\n\u001b[0m                                 ^\u001b[0m\n\u001b[0;31mSyntaxError\u001b[0m\u001b[0;31m:\u001b[0m invalid syntax\n"
     ]
    }
   ],
   "source": [
    "import csv\n",
    "import numpy as np\n",
    "csvreader=file('/home/zzq/Downloads/airquality.csv','rb')\n",
    "reader = csv.reader(csvreader)\n",
    "print reader"
   ]
  },
  {
   "cell_type": "code",
   "execution_count": 2,
   "metadata": {
    "collapsed": false
   },
   "outputs": [
    {
     "name": "stdout",
     "output_type": "stream",
     "text": [
      "['{\"_id\":{\"$oid\":\"588abb6832077826608c297c\"}', 'O3/8h:\"36\"', 'time:\"2017012711\"', 'SO2/1h:\"8\"', 'city:\"\\xe9\\x98\\xbf\\xe5\\x9d\\x9d\\xe5\\xb7\\x9e\"', 'AQI:\"33\"', 'NO2/1h:\"16\"', '03/1h:\"32\"', 'PM25/1h:\"17\"', 'PM10/1h:\"32\"', 'CO:\"0.8\"}']\n"
     ]
    }
   ],
   "source": [
    "headings=next(reader)\n",
    "print headings"
   ]
  },
  {
   "cell_type": "code",
   "execution_count": 6,
   "metadata": {
    "collapsed": false
   },
   "outputs": [
    {
     "ename": "AttributeError",
     "evalue": "'list' object has no attribute 'decode'",
     "output_type": "error",
     "traceback": [
      "\u001b[0;31m---------------------------------------------------------------------------\u001b[0m",
      "\u001b[0;31mAttributeError\u001b[0m                            Traceback (most recent call last)",
      "\u001b[0;32m<ipython-input-6-541e06fb17e2>\u001b[0m in \u001b[0;36m<module>\u001b[0;34m()\u001b[0m\n\u001b[0;32m----> 1\u001b[0;31m \u001b[0mheadings\u001b[0m\u001b[0;34m.\u001b[0m\u001b[0mdecode\u001b[0m\u001b[0;34m(\u001b[0m\u001b[0;34m'utf8'\u001b[0m\u001b[0;34m)\u001b[0m\u001b[0;34m\u001b[0m\u001b[0m\n\u001b[0m\u001b[1;32m      2\u001b[0m \u001b[0;32mprint\u001b[0m \u001b[0mheads\u001b[0m\u001b[0;34m\u001b[0m\u001b[0m\n",
      "\u001b[0;31mAttributeError\u001b[0m: 'list' object has no attribute 'decode'"
     ]
    }
   ],
   "source": [
    "headings.decode('utf8')\n",
    "print heads"
   ]
  },
  {
   "cell_type": "code",
   "execution_count": 24,
   "metadata": {
    "collapsed": false
   },
   "outputs": [
    {
     "name": "stdout",
     "output_type": "stream",
     "text": [
      "11\n",
      "{\"_id\":{\"$oid\":\"588abb6832077826608c297c\"}\n",
      "O3/8h:\"36\"\n",
      "time:\"2017012711\"\n",
      "SO2/1h:\"8\"\n",
      "city:\"阿坝州\"\n",
      "AQI:\"33\"\n",
      "NO2/1h:\"16\"\n",
      "03/1h:\"32\"\n",
      "PM25/1h:\"17\"\n",
      "PM10/1h:\"32\"\n",
      "CO:\"0.8\"}\n"
     ]
    }
   ],
   "source": [
    "with open('/home/zzq/Downloads/airquality.csv') as f:\n",
    "    csv_file=csv.reader(f)\n",
    "    header=next(csv_file)\n",
    "    print len(header)\n",
    "    dict_={}\n",
    "    for i in range(len(header)):\n",
    "        #print type(header[i])\n",
    "        stri=header[i]\n",
    "        print stri\n",
    "        #stri.split(':')\n",
    "        #print type(stri)\n",
    "        #dict_[stri[0]]=stri[1]\n",
    "    #print dict_\n",
    "    \n",
    "    "
   ]
  },
  {
   "cell_type": "code",
   "execution_count": 26,
   "metadata": {
    "collapsed": false
   },
   "outputs": [],
   "source": [
    "with open('/home/zzq/Downloads/airquality.csv') as f:   \n",
    "    csv_file=csv.reader(f)\n",
    "    for line in csv_file:\n",
    "        f=open('/home/zzq/kaggle/demo','a')\n",
    "        for i in range(len(line)):\n",
    "            if i>=4:\n",
    "                f.write(line[i]+'\\t')\n",
    "        f.write('\\n')\n",
    "        f.close()\n",
    "            \n",
    "            \n",
    "            "
   ]
  },
  {
   "cell_type": "code",
   "execution_count": null,
   "metadata": {
    "collapsed": true
   },
   "outputs": [],
   "source": []
  }
 ],
 "metadata": {
  "kernelspec": {
   "display_name": "Python 2",
   "language": "python",
   "name": "python2"
  },
  "language_info": {
   "codemirror_mode": {
    "name": "ipython",
    "version": 2
   },
   "file_extension": ".py",
   "mimetype": "text/x-python",
   "name": "python",
   "nbconvert_exporter": "python",
   "pygments_lexer": "ipython2",
   "version": "2.7.12"
  }
 },
 "nbformat": 4,
 "nbformat_minor": 2
}
