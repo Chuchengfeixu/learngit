{
 "cells": [
  {
   "cell_type": "code",
   "execution_count": 7,
   "metadata": {
    "collapsed": false
   },
   "outputs": [
    {
     "name": "stdout",
     "output_type": "stream",
     "text": [
      "[u'Sheet1', u'Sheet2', u'Sheet3']\n"
     ]
    },
    {
     "data": {
      "text/html": [
       "<div style=\"max-height:1000px;max-width:1500px;overflow:auto;\">\n",
       "<table border=\"1\" class=\"dataframe\">\n",
       "  <thead>\n",
       "    <tr style=\"text-align: right;\">\n",
       "      <th></th>\n",
       "      <th>12</th>\n",
       "      <th>345</th>\n",
       "      <th>567</th>\n",
       "    </tr>\n",
       "  </thead>\n",
       "  <tbody>\n",
       "    <tr>\n",
       "      <th>0</th>\n",
       "      <td> 12</td>\n",
       "      <td> 43</td>\n",
       "      <td> 789</td>\n",
       "    </tr>\n",
       "  </tbody>\n",
       "</table>\n",
       "<p>1 rows × 3 columns</p>\n",
       "</div>"
      ],
      "text/plain": [
       "   12   345  567\n",
       "0   12   43  789\n",
       "\n",
       "[1 rows x 3 columns]"
      ]
     },
     "execution_count": 7,
     "metadata": {},
     "output_type": "execute_result"
    }
   ],
   "source": [
    "import pandas as pd\n",
    "import numpy as np\n",
    "df=pd.ExcelFile(\"2.xls\")\n",
    "print df.sheet_names\n",
    "sheet1=df.parse('Sheet1')\n",
    "sheet1"
   ]
  },
  {
   "cell_type": "code",
   "execution_count": 10,
   "metadata": {
    "collapsed": false
   },
   "outputs": [
    {
     "data": {
      "text/plain": [
       "pandas.core.frame.DataFrame"
      ]
     },
     "execution_count": 10,
     "metadata": {},
     "output_type": "execute_result"
    }
   ],
   "source": [
    "type(sheet1)"
   ]
  },
  {
   "cell_type": "code",
   "execution_count": 13,
   "metadata": {
    "collapsed": false
   },
   "outputs": [
    {
     "data": {
      "text/plain": [
       "(1, 3)"
      ]
     },
     "execution_count": 13,
     "metadata": {},
     "output_type": "execute_result"
    }
   ],
   "source": [
    "sheet1.shape"
   ]
  },
  {
   "cell_type": "code",
   "execution_count": 14,
   "metadata": {
    "collapsed": false
   },
   "outputs": [
    {
     "data": {
      "text/plain": [
       "Int64Index([12, 345, 567], dtype='int64')"
      ]
     },
     "execution_count": 14,
     "metadata": {},
     "output_type": "execute_result"
    }
   ],
   "source": [
    "sheet1.columns"
   ]
  },
  {
   "cell_type": "code",
   "execution_count": 16,
   "metadata": {
    "collapsed": false
   },
   "outputs": [
    {
     "data": {
      "text/plain": [
       "0    43\n",
       "Name: 345, dtype: int64"
      ]
     },
     "execution_count": 16,
     "metadata": {},
     "output_type": "execute_result"
    }
   ],
   "source": [
    "sheet1[345]"
   ]
  },
  {
   "cell_type": "code",
   "execution_count": 17,
   "metadata": {
    "collapsed": false
   },
   "outputs": [
    {
     "data": {
      "text/plain": [
       "(1, 3)"
      ]
     },
     "execution_count": 17,
     "metadata": {},
     "output_type": "execute_result"
    }
   ],
   "source": [
    "sheet1.shape"
   ]
  },
  {
   "cell_type": "code",
   "execution_count": 18,
   "metadata": {
    "collapsed": false
   },
   "outputs": [
    {
     "name": "stdout",
     "output_type": "stream",
     "text": [
      "[u'Sheet1', u'Sheet2', u'Sheet3']\n"
     ]
    }
   ],
   "source": [
    "xls=pd.ExcelFile('2.xls')\n",
    "print xls.sheet_names"
   ]
  },
  {
   "cell_type": "code",
   "execution_count": 19,
   "metadata": {
    "collapsed": false
   },
   "outputs": [
    {
     "data": {
      "text/plain": [
       "(2, 3)"
      ]
     },
     "execution_count": 19,
     "metadata": {},
     "output_type": "execute_result"
    }
   ],
   "source": [
    "sh1=xls.parse('Sheet1')\n",
    "sh1.shape"
   ]
  },
  {
   "cell_type": "code",
   "execution_count": 20,
   "metadata": {
    "collapsed": false
   },
   "outputs": [
    {
     "data": {
      "text/plain": [
       "Int64Index([12, 345, 567], dtype='int64')"
      ]
     },
     "execution_count": 20,
     "metadata": {},
     "output_type": "execute_result"
    }
   ],
   "source": [
    "sh1.columns"
   ]
  },
  {
   "cell_type": "code",
   "execution_count": 21,
   "metadata": {
    "collapsed": false
   },
   "outputs": [
    {
     "data": {
      "text/plain": [
       "0    12\n",
       "1    13\n",
       "Name: 12, dtype: int64"
      ]
     },
     "execution_count": 21,
     "metadata": {},
     "output_type": "execute_result"
    }
   ],
   "source": [
    "sh1[12]"
   ]
  },
  {
   "cell_type": "code",
   "execution_count": 23,
   "metadata": {
    "collapsed": false
   },
   "outputs": [
    {
     "name": "stdout",
     "output_type": "stream",
     "text": [
      "[u'raw data', u'By BL, BL&MG', u'by client no.', u'SP+Buyer (1)', u'SP+Buyer (2)', u'Sales Org. + Annual', u'Summary report']\n"
     ]
    }
   ],
   "source": [
    "ka=pd.ExcelFile('KA Data--2016.03.xlsx')\n",
    "print ka.sheet_names"
   ]
  },
  {
   "cell_type": "code",
   "execution_count": 25,
   "metadata": {
    "collapsed": false
   },
   "outputs": [],
   "source": [
    "raw_data=ka.parse('raw data')"
   ]
  },
  {
   "cell_type": "code",
   "execution_count": 26,
   "metadata": {
    "collapsed": false
   },
   "outputs": [
    {
     "data": {
      "text/plain": [
       "Index([u'Business stream', u'BF', u'BL no.', u'BL', u'Material Group', u'Material', u'Sales Office', u'Sales Group', u'Sales employee', u'Responsible Engineer', u'Sales Document', u'Month', u'Orders', u'Sales', u'Sales org.', u'Sold-to pt', u'KA Group Name', u'KA company name', u'KA No.', u'Supplier', u'Supplier's Company Name', u'SAP Role', u'KA Classification', u'Approver', u'Approver no.'], dtype='object')"
      ]
     },
     "execution_count": 26,
     "metadata": {},
     "output_type": "execute_result"
    }
   ],
   "source": [
    "raw_data.columns"
   ]
  },
  {
   "cell_type": "code",
   "execution_count": 27,
   "metadata": {
    "collapsed": false
   },
   "outputs": [
    {
     "data": {
      "text/plain": [
       "0     IS\n",
       "1     IS\n",
       "2     IS\n",
       "3     IS\n",
       "4     IS\n",
       "5     IS\n",
       "6     IS\n",
       "7     IS\n",
       "8     IS\n",
       "9     IS\n",
       "10    IS\n",
       "11    IS\n",
       "12    IS\n",
       "13    CP\n",
       "14    CP\n",
       "...\n",
       "16934    CP\n",
       "16935    CP\n",
       "16936    CP\n",
       "16937    CP\n",
       "16938    CP\n",
       "16939    CP\n",
       "16940    CP\n",
       "16941    CP\n",
       "16942    CP\n",
       "16943    CP\n",
       "16944    CP\n",
       "16945    CP\n",
       "16946    CP\n",
       "16947    CP\n",
       "16948    CP\n",
       "Name: BL, Length: 16949, dtype: object"
      ]
     },
     "execution_count": 27,
     "metadata": {},
     "output_type": "execute_result"
    }
   ],
   "source": [
    "raw_data['BL']"
   ]
  },
  {
   "cell_type": "code",
   "execution_count": 28,
   "metadata": {
    "collapsed": false
   },
   "outputs": [
    {
     "name": "stdout",
     "output_type": "stream",
     "text": [
      "16949\n"
     ]
    }
   ],
   "source": [
    "print len(raw_data['BL'])"
   ]
  },
  {
   "cell_type": "code",
   "execution_count": 29,
   "metadata": {
    "collapsed": true
   },
   "outputs": [],
   "source": [
    "se=raw_data['BL']"
   ]
  },
  {
   "cell_type": "code",
   "execution_count": 30,
   "metadata": {
    "collapsed": false
   },
   "outputs": [
    {
     "data": {
      "text/plain": [
       "pandas.core.series.Series"
      ]
     },
     "execution_count": 30,
     "metadata": {},
     "output_type": "execute_result"
    }
   ],
   "source": [
    "type(se)"
   ]
  },
  {
   "cell_type": "code",
   "execution_count": 31,
   "metadata": {
    "collapsed": false
   },
   "outputs": [
    {
     "data": {
      "text/plain": [
       "Int64Index([0, 1, 2, 3, 4, 5, 6, 7, 8, 9, 10, 11, 12, 13, 14, 15, 16, 17, 18, 19, 20, 21, 22, 23, 24, 25, 26, 27, 28, 29, 30, 31, 32, 33, 34, 35, 36, 37, 38, 39, 40, 41, 42, 43, 44, 45, 46, 47, 48, 49, 50, 51, 52, 53, 54, 55, 56, 57, 58, 59, 60, 61, 62, 63, 64, 65, 66, 67, 68, 69, 70, 71, 72, 73, 74, 75, 76, 77, 78, 79, 80, 81, 82, 83, 84, 85, 86, 87, 88, 89, 90, 91, 92, 93, 94, 95, 96, 97, 98, 99, ...], dtype='int64')"
      ]
     },
     "execution_count": 31,
     "metadata": {},
     "output_type": "execute_result"
    }
   ],
   "source": [
    "se.index"
   ]
  },
  {
   "cell_type": "code",
   "execution_count": 34,
   "metadata": {
    "collapsed": false
   },
   "outputs": [
    {
     "name": "stdout",
     "output_type": "stream",
     "text": [
      "IS\n"
     ]
    }
   ],
   "source": [
    "print se[2]"
   ]
  },
  {
   "cell_type": "code",
   "execution_count": 35,
   "metadata": {
    "collapsed": false
   },
   "outputs": [
    {
     "name": "stdout",
     "output_type": "stream",
     "text": [
      "16949\n"
     ]
    }
   ],
   "source": [
    "print len(se)"
   ]
  },
  {
   "cell_type": "code",
   "execution_count": 37,
   "metadata": {
    "collapsed": false
   },
   "outputs": [
    {
     "name": "stdout",
     "output_type": "stream",
     "text": [
      "IS\n",
      "IS\n",
      "IS\n",
      "IS\n",
      "IS\n",
      "IS\n",
      "IS\n",
      "IS\n",
      "IS\n",
      "IS\n",
      "IS\n",
      "IS\n",
      "IS\n",
      "IS\n",
      "IS\n",
      "IS\n",
      "IS\n",
      "IS\n",
      "IS\n",
      "IS\n",
      "IS\n",
      "IS\n",
      "IS\n",
      "IS\n",
      "IS\n",
      "IS\n",
      "IS\n",
      "IS\n",
      "IS\n",
      "IS\n",
      "IS\n",
      "IS\n",
      "IS\n",
      "IS\n",
      "IS\n",
      "IS\n",
      "IS\n",
      "IS\n",
      "IS\n",
      "IS\n",
      "IS\n",
      "IS\n",
      "IS\n",
      "IS\n",
      "IS\n",
      "IS\n",
      "IS\n",
      "IS\n",
      "IS\n",
      "IS\n",
      "IS\n",
      "IS\n",
      "IS\n",
      "IS\n",
      "IS\n",
      "IS\n",
      "IS\n",
      "IS\n",
      "IS\n",
      "IS\n",
      "IS\n",
      "IS\n",
      "IS\n",
      "IS\n",
      "IS\n",
      "IS\n",
      "IS\n",
      "IS\n",
      "IS\n",
      "IS\n",
      "IS\n",
      "IS\n",
      "IS\n",
      "IS\n",
      "IS\n",
      "IS\n",
      "IS\n",
      "IS\n",
      "IS\n",
      "IS\n",
      "IS\n",
      "IS\n",
      "IS\n",
      "IS\n",
      "IS\n",
      "IS\n",
      "IS\n",
      "IS\n",
      "IS\n",
      "IS\n",
      "IS\n",
      "IS\n",
      "IS\n",
      "IS\n",
      "IS\n",
      "IS\n",
      "IS\n",
      "IS\n",
      "IS\n",
      "IS\n",
      "IS\n",
      "IS\n",
      "IS\n",
      "IS\n",
      "IS\n",
      "IS\n",
      "IS\n",
      "IS\n",
      "IS\n",
      "IS\n",
      "IS\n",
      "IS\n",
      "IS\n",
      "IS\n",
      "IS\n",
      "IS\n",
      "IS\n",
      "IS\n",
      "IS\n",
      "IS\n",
      "IS\n",
      "IS\n",
      "IS\n",
      "IS\n",
      "IS\n",
      "IS\n",
      "IS\n",
      "IS\n",
      "IS\n",
      "IS\n",
      "IS\n",
      "IS\n",
      "IS\n",
      "IS\n",
      "IS\n",
      "IS\n",
      "IS\n",
      "IS\n",
      "IS\n",
      "IS\n",
      "IS\n",
      "IS\n",
      "IS\n",
      "IS\n",
      "IS\n",
      "IS\n",
      "IS\n",
      "IS\n",
      "IS\n",
      "IS\n",
      "IS\n",
      "IS\n",
      "IS\n",
      "IS\n",
      "IS\n",
      "IS\n",
      "IS\n",
      "IS\n",
      "IS\n",
      "IS\n",
      "IS\n",
      "IS\n",
      "IS\n",
      "IS\n",
      "IS\n",
      "IS\n",
      "IS\n",
      "IS\n",
      "IS\n",
      "IS\n",
      "IS\n",
      "IS\n",
      "IS\n",
      "IS\n",
      "IS\n",
      "IS\n",
      "IS\n",
      "IS\n",
      "IS\n",
      "IS\n",
      "IS\n",
      "IS\n",
      "IS\n",
      "IS\n",
      "IS\n",
      "IS\n",
      "IS\n",
      "IS\n",
      "IS\n",
      "IS\n",
      "IS\n",
      "IS\n",
      "IS\n",
      "IS\n",
      "IS\n",
      "IS\n",
      "IS\n",
      "IS\n",
      "IS\n",
      "IS\n",
      "IS\n",
      "IS\n",
      "IS\n",
      "IS\n",
      "IS\n",
      "IS\n",
      "IS\n",
      "IS\n",
      "IS\n",
      "IS\n",
      "IS\n",
      "IS\n",
      "IS\n",
      "IS\n",
      "IS\n",
      "IS\n",
      "IS\n",
      "IS\n",
      "IS\n",
      "IS\n",
      "IS\n",
      "IS\n",
      "IS\n",
      "IS\n",
      "IS\n",
      "IS\n",
      "IS\n",
      "IS\n",
      "IS\n",
      "IS\n"
     ]
    }
   ],
   "source": [
    "for i in range(len(se)):\n",
    "    if(se[i]=='IS'):\n",
    "        print 'IS'"
   ]
  },
  {
   "cell_type": "code",
   "execution_count": null,
   "metadata": {
    "collapsed": true
   },
   "outputs": [],
   "source": []
  }
 ],
 "metadata": {
  "kernelspec": {
   "display_name": "Python 2",
   "language": "python",
   "name": "python2"
  },
  "language_info": {
   "codemirror_mode": {
    "name": "ipython",
    "version": 2
   },
   "file_extension": ".py",
   "mimetype": "text/x-python",
   "name": "python",
   "nbconvert_exporter": "python",
   "pygments_lexer": "ipython2",
   "version": "2.7.6"
  }
 },
 "nbformat": 4,
 "nbformat_minor": 0
}
