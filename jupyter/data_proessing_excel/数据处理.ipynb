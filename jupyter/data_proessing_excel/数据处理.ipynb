{
 "cells": [
  {
   "cell_type": "code",
   "execution_count": 1,
   "metadata": {
    "collapsed": false
   },
   "outputs": [
    {
     "data": {
      "text/plain": [
       "7"
      ]
     },
     "execution_count": 1,
     "metadata": {},
     "output_type": "execute_result"
    }
   ],
   "source": [
    "import xlrd\n",
    "book = xlrd.open_workbook(\"KA Data--2016.03.xlsx\")\n",
    "book.nsheets"
   ]
  },
  {
   "cell_type": "code",
   "execution_count": 2,
   "metadata": {
    "collapsed": false
   },
   "outputs": [
    {
     "data": {
      "text/plain": [
       "[u'raw data',\n",
       " u'By BL, BL&MG',\n",
       " u'by client no.',\n",
       " u'SP+Buyer (1)',\n",
       " u'SP+Buyer (2)',\n",
       " u'Sales Org. + Annual',\n",
       " u'Summary report']"
      ]
     },
     "execution_count": 2,
     "metadata": {},
     "output_type": "execute_result"
    }
   ],
   "source": [
    "book.sheet_names()"
   ]
  },
  {
   "cell_type": "code",
   "execution_count": 5,
   "metadata": {
    "collapsed": false
   },
   "outputs": [
    {
     "name": "stdout",
     "output_type": "stream",
     "text": [
      "16950\n",
      "25\n"
     ]
    }
   ],
   "source": [
    "sheet=book.sheet_by_name('raw data')\n",
    "print sheet.nrows#行\n",
    "print sheet.ncols#列"
   ]
  },
  {
   "cell_type": "code",
   "execution_count": 6,
   "metadata": {
    "collapsed": false
   },
   "outputs": [
    {
     "name": "stdout",
     "output_type": "stream",
     "text": [
      "100\n"
     ]
    }
   ],
   "source": [
    "print sheet.cell(1,2).value"
   ]
  },
  {
   "cell_type": "code",
   "execution_count": 7,
   "metadata": {
    "collapsed": true
   },
   "outputs": [],
   "source": [
    "colnames=sheet.row_values(0)\n",
    "# list=[]\n",
    "# for rownum in range(1,sheet.nrows):\n",
    "#     row=sheet.row_values(rownum)\n",
    "#     if row:\n",
    "#         app={}\n",
    "#         for i in range(len(colnames)):\n",
    "#             app[colnames[i]]=row[i]\n",
    "#             list.append(app)\n",
    "    "
   ]
  },
  {
   "cell_type": "code",
   "execution_count": 8,
   "metadata": {
    "collapsed": false
   },
   "outputs": [
    {
     "name": "stdout",
     "output_type": "stream",
     "text": [
      "[u'Business stream', u'BF', u'BL no.', u'BL', u'Material Group', u'Material', u'Sales Office', u'Sales Group', u'Sales employee', u'Responsible Engineer', u'Sales Document', u'Month', u'Orders', u'Sales', u'Sales org.', u'Sold-to pt', u'KA Group Name', u'KA company name', u'KA No.', u'Supplier', u\"Supplier's Company Name\", u'SAP Role', u'KA Classification', u'Approver', u'Approver no.']\n"
     ]
    }
   ],
   "source": [
    "print colnames"
   ]
  },
  {
   "cell_type": "code",
   "execution_count": 17,
   "metadata": {
    "collapsed": false
   },
   "outputs": [
    {
     "name": "stdout",
     "output_type": "stream",
     "text": [
      "<type 'list'>\n",
      "1  1\n",
      "102.0\n",
      "100\n",
      "IS\n",
      "01206     Hoisting dev. others\n",
      "3608               Subcontractor Cost\n",
      "ZCN7 Qingdao\n",
      "S80 ECMT\n",
      "00084547 Lancao Nie\n",
      "00089931 Sun Vincent\n",
      "1150008672 1150008672\n",
      "2.2016\n",
      "14000.0\n",
      "0.0\n",
      "5125.0\n",
      "382097.0\n",
      "BMW\n",
      "BMW Brilliance Automotive Ltd.\n",
      "1.0\n",
      "\n",
      "\n",
      "SP\n",
      "RKA-GC\n",
      "Board\n",
      "1.0\n"
     ]
    }
   ],
   "source": [
    "for i in range(1,2):\n",
    "    row = sheet.row_values(i)\n",
    "    print type(row)\n",
    "    for j in range(len(row)):#这里必须要加一个range才能编译过\n",
    "        print row[j]\n",
    "#     for j in len(row):\n",
    "#         if row[j]=='BL':\n",
    "#             print 'BL'\n",
    "#         else:\n",
    "#             pass\n",
    "                \n",
    "    #print row"
   ]
  },
  {
   "cell_type": "code",
   "execution_count": null,
   "metadata": {
    "collapsed": true
   },
   "outputs": [],
   "source": []
  }
 ],
 "metadata": {
  "kernelspec": {
   "display_name": "Python 2",
   "language": "python",
   "name": "python2"
  },
  "language_info": {
   "codemirror_mode": {
    "name": "ipython",
    "version": 2
   },
   "file_extension": ".py",
   "mimetype": "text/x-python",
   "name": "python",
   "nbconvert_exporter": "python",
   "pygments_lexer": "ipython2",
   "version": "2.7.6"
  }
 },
 "nbformat": 4,
 "nbformat_minor": 0
}
